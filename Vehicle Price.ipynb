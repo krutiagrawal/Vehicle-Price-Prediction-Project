{
 "cells": [
  {
   "cell_type": "code",
   "id": "388b7268-3813-40ef-88e1-acef78f5942c",
   "metadata": {
    "ExecuteTime": {
     "end_time": "2024-10-31T17:51:10.819642Z",
     "start_time": "2024-10-31T17:51:10.808987Z"
    }
   },
   "source": [
    "import pandas as pd\n",
    "import numpy as np\n",
    "from sklearn.model_selection import train_test_split\n",
    "from sklearn.preprocessing import OneHotEncoder, StandardScaler\n",
    "from sklearn.compose import ColumnTransformer\n",
    "from sklearn.pipeline import Pipeline\n",
    "from tensorflow.keras.models import Sequential\n",
    "from tensorflow.keras.layers import Dense\n",
    "from tensorflow.keras.callbacks import EarlyStopping\n",
    "import joblib"
   ],
   "outputs": [],
   "execution_count": 24
  },
  {
   "cell_type": "code",
   "id": "d57c1abf-40b6-4259-9e60-c779434f5e99",
   "metadata": {
    "ExecuteTime": {
     "end_time": "2024-10-31T17:51:10.886116Z",
     "start_time": "2024-10-31T17:51:10.843153Z"
    }
   },
   "source": [
    "df = pd.read_csv(r'C:\\Users\\Kruti Agrawal\\Desktop\\Projects\\vehicle_price_prediction\\Vehicle Price Prediction\\dataset.csv')"
   ],
   "outputs": [],
   "execution_count": 25
  },
  {
   "cell_type": "code",
   "id": "d8183916-f295-4b60-b964-362e5461f16c",
   "metadata": {
    "ExecuteTime": {
     "end_time": "2024-10-31T17:51:10.949306Z",
     "start_time": "2024-10-31T17:51:10.927417Z"
    }
   },
   "source": [
    "print(df.head())"
   ],
   "outputs": [
    {
     "name": "stdout",
     "output_type": "stream",
     "text": [
      "                              name  \\\n",
      "0     2024 Jeep Wagoneer Series II   \n",
      "1  2024 Jeep Grand Cherokee Laredo   \n",
      "2         2024 GMC Yukon XL Denali   \n",
      "3       2023 Dodge Durango Pursuit   \n",
      "4            2024 RAM 3500 Laramie   \n",
      "\n",
      "                                         description   make           model  \\\n",
      "0  \\n      \\n        Heated Leather Seats, Nav Sy...   Jeep        Wagoneer   \n",
      "1  Al West is committed to offering every custome...   Jeep  Grand Cherokee   \n",
      "2                                                NaN    GMC        Yukon XL   \n",
      "3  White Knuckle Clearcoat 2023 Dodge Durango Pur...  Dodge         Durango   \n",
      "4  \\n      \\n        2024 Ram 3500 Laramie Billet...    RAM            3500   \n",
      "\n",
      "   year    price                                             engine  \\\n",
      "0  2024  74600.0                            24V GDI DOHC Twin Turbo   \n",
      "1  2024  50170.0                                                OHV   \n",
      "2  2024  96410.0  6.2L V-8 gasoline direct injection, variable v...   \n",
      "3  2023  46835.0                                       16V MPFI OHV   \n",
      "4  2024  81663.0                           24V DDI OHV Turbo Diesel   \n",
      "\n",
      "   cylinders      fuel  mileage       transmission       trim          body  \\\n",
      "0        6.0  Gasoline     10.0  8-Speed Automatic  Series II           SUV   \n",
      "1        6.0  Gasoline      1.0  8-Speed Automatic     Laredo           SUV   \n",
      "2        8.0  Gasoline      0.0          Automatic     Denali           SUV   \n",
      "3        8.0  Gasoline     32.0  8-Speed Automatic    Pursuit           SUV   \n",
      "4        6.0    Diesel     10.0  6-Speed Automatic    Laramie  Pickup Truck   \n",
      "\n",
      "   doors           exterior_color    interior_color        drivetrain  \n",
      "0    4.0                    White      Global Black  Four-wheel Drive  \n",
      "1    4.0                 Metallic      Global Black  Four-wheel Drive  \n",
      "2    4.0             Summit White  Teak/Light Shale  Four-wheel Drive  \n",
      "3    4.0  White Knuckle Clearcoat             Black   All-wheel Drive  \n",
      "4    4.0                   Silver             Black  Four-wheel Drive  \n"
     ]
    }
   ],
   "execution_count": 26
  },
  {
   "cell_type": "code",
   "id": "6c268264-693b-49c2-98ee-0b140f8b0e7f",
   "metadata": {
    "ExecuteTime": {
     "end_time": "2024-10-31T17:51:11.011114Z",
     "start_time": "2024-10-31T17:51:10.986938Z"
    }
   },
   "source": [
    "print(df.info())"
   ],
   "outputs": [
    {
     "name": "stdout",
     "output_type": "stream",
     "text": [
      "<class 'pandas.core.frame.DataFrame'>\n",
      "RangeIndex: 1002 entries, 0 to 1001\n",
      "Data columns (total 17 columns):\n",
      " #   Column          Non-Null Count  Dtype  \n",
      "---  ------          --------------  -----  \n",
      " 0   name            1002 non-null   object \n",
      " 1   description     946 non-null    object \n",
      " 2   make            1002 non-null   object \n",
      " 3   model           1002 non-null   object \n",
      " 4   year            1002 non-null   int64  \n",
      " 5   price           979 non-null    float64\n",
      " 6   engine          1000 non-null   object \n",
      " 7   cylinders       897 non-null    float64\n",
      " 8   fuel            995 non-null    object \n",
      " 9   mileage         968 non-null    float64\n",
      " 10  transmission    1000 non-null   object \n",
      " 11  trim            1001 non-null   object \n",
      " 12  body            999 non-null    object \n",
      " 13  doors           995 non-null    float64\n",
      " 14  exterior_color  997 non-null    object \n",
      " 15  interior_color  964 non-null    object \n",
      " 16  drivetrain      1002 non-null   object \n",
      "dtypes: float64(4), int64(1), object(12)\n",
      "memory usage: 133.2+ KB\n",
      "None\n"
     ]
    }
   ],
   "execution_count": 27
  },
  {
   "cell_type": "code",
   "id": "4df3c612-c976-4a01-ad90-f5dee3fbf71d",
   "metadata": {
    "ExecuteTime": {
     "end_time": "2024-10-31T17:51:11.059948Z",
     "start_time": "2024-10-31T17:51:11.050264Z"
    }
   },
   "source": [
    "print(df.isnull().sum())"
   ],
   "outputs": [
    {
     "name": "stdout",
     "output_type": "stream",
     "text": [
      "name                0\n",
      "description        56\n",
      "make                0\n",
      "model               0\n",
      "year                0\n",
      "price              23\n",
      "engine              2\n",
      "cylinders         105\n",
      "fuel                7\n",
      "mileage            34\n",
      "transmission        2\n",
      "trim                1\n",
      "body                3\n",
      "doors               7\n",
      "exterior_color      5\n",
      "interior_color     38\n",
      "drivetrain          0\n",
      "dtype: int64\n"
     ]
    }
   ],
   "execution_count": 28
  },
  {
   "cell_type": "code",
   "id": "93b42a4f-ab10-4cc8-9f73-ec6e32dbe09d",
   "metadata": {
    "ExecuteTime": {
     "end_time": "2024-10-31T17:51:11.116793Z",
     "start_time": "2024-10-31T17:51:11.103096Z"
    }
   },
   "source": [
    "df.dropna(inplace=True)"
   ],
   "outputs": [],
   "execution_count": 29
  },
  {
   "cell_type": "code",
   "id": "ae0fc40c-bd4d-49f5-ad13-f3854c57a738",
   "metadata": {
    "ExecuteTime": {
     "end_time": "2024-10-31T17:51:11.159544Z",
     "start_time": "2024-10-31T17:51:11.152020Z"
    }
   },
   "source": [
    "X = df.drop('price', axis=1)\n",
    "y = df['price']"
   ],
   "outputs": [],
   "execution_count": 30
  },
  {
   "cell_type": "code",
   "id": "797e23b1-78cd-4cca-87ee-83d22b1b297d",
   "metadata": {
    "ExecuteTime": {
     "end_time": "2024-10-31T17:51:11.199829Z",
     "start_time": "2024-10-31T17:51:11.192040Z"
    }
   },
   "source": [
    "categorical_cols = ['make', 'model', 'fuel', 'transmission', 'trim', 'body', 'exterior_color', 'interior_color', 'drivetrain']\n",
    "numerical_cols = ['year', 'cylinders', 'mileage', 'doors']"
   ],
   "outputs": [],
   "execution_count": 31
  },
  {
   "cell_type": "code",
   "id": "23283040-9baa-46e4-8498-c1d194a43323",
   "metadata": {
    "ExecuteTime": {
     "end_time": "2024-10-31T17:51:11.271630Z",
     "start_time": "2024-10-31T17:51:11.258789Z"
    }
   },
   "source": [
    "preprocessor = ColumnTransformer(\n",
    "    transformers=[\n",
    "        ('num', StandardScaler(), numerical_cols),\n",
    "        ('cat', OneHotEncoder(handle_unknown='ignore'), categorical_cols)  \n",
    "    ])"
   ],
   "outputs": [],
   "execution_count": 32
  },
  {
   "cell_type": "code",
   "id": "d1b536db-4699-4116-b887-a4e108af4d27",
   "metadata": {
    "ExecuteTime": {
     "end_time": "2024-10-31T17:51:11.318999Z",
     "start_time": "2024-10-31T17:51:11.305039Z"
    }
   },
   "source": [
    "X_train, X_test, y_train, y_test = train_test_split(X, y, test_size=0.2, random_state=42)"
   ],
   "outputs": [],
   "execution_count": 33
  },
  {
   "cell_type": "code",
   "id": "c59dab46-7db5-47cf-b262-45336da289f3",
   "metadata": {
    "ExecuteTime": {
     "end_time": "2024-10-31T17:51:11.402010Z",
     "start_time": "2024-10-31T17:51:11.362606Z"
    }
   },
   "source": [
    "X_train = preprocessor.fit_transform(X_train)\n",
    "X_test = preprocessor.transform(X_test)"
   ],
   "outputs": [],
   "execution_count": 34
  },
  {
   "metadata": {
    "ExecuteTime": {
     "end_time": "2024-10-31T17:51:11.443554Z",
     "start_time": "2024-10-31T17:51:11.439104Z"
    }
   },
   "cell_type": "code",
   "source": [
    "X_train_dense = X_train.toarray()  \n",
    "X_test_dense = X_test.toarray() "
   ],
   "id": "e03ed14215f636a4",
   "outputs": [],
   "execution_count": 35
  },
  {
   "cell_type": "code",
   "id": "6b541724-2c62-4bcc-b896-9fa98d12fa3f",
   "metadata": {
    "ExecuteTime": {
     "end_time": "2024-10-31T17:51:11.564010Z",
     "start_time": "2024-10-31T17:51:11.491999Z"
    }
   },
   "source": [
    "model = Sequential()\n",
    "model.add(Dense(128, activation='relu', input_shape=(X_train.shape[1],)))\n",
    "model.add(Dense(64, activation='relu'))\n",
    "model.add(Dense(32, activation='relu'))\n",
    "model.add(Dense(1))"
   ],
   "outputs": [],
   "execution_count": 36
  },
  {
   "cell_type": "code",
   "id": "44f7c0d4-7278-4618-aabb-863496feb968",
   "metadata": {
    "ExecuteTime": {
     "end_time": "2024-10-31T17:51:11.627850Z",
     "start_time": "2024-10-31T17:51:11.608575Z"
    }
   },
   "source": [
    "model.compile(optimizer='adam', loss='mean_squared_error')"
   ],
   "outputs": [],
   "execution_count": 37
  },
  {
   "cell_type": "code",
   "id": "66080dfb-078f-472a-8892-42e510f2bd5d",
   "metadata": {
    "ExecuteTime": {
     "end_time": "2024-10-31T17:51:11.676990Z",
     "start_time": "2024-10-31T17:51:11.663910Z"
    }
   },
   "source": [
    "early_stopping = EarlyStopping(monitor='val_loss', patience=5)"
   ],
   "outputs": [],
   "execution_count": 38
  },
  {
   "cell_type": "code",
   "id": "28922a8c-95ac-4758-9d41-108b7a82408e",
   "metadata": {
    "ExecuteTime": {
     "end_time": "2024-10-31T17:51:15.827885Z",
     "start_time": "2024-10-31T17:51:11.726880Z"
    }
   },
   "source": "history = model.fit(X_train_dense, y_train, validation_split=0.2, epochs=80, batch_size=32, callbacks=[early_stopping])",
   "outputs": [
    {
     "name": "stdout",
     "output_type": "stream",
     "text": [
      "Epoch 1/80\n",
      "15/15 [==============================] - 1s 7ms/step - loss: 2724596224.0000 - val_loss: 2568279296.0000\n",
      "Epoch 2/80\n",
      "15/15 [==============================] - 0s 3ms/step - loss: 2724372480.0000 - val_loss: 2567884544.0000\n",
      "Epoch 3/80\n",
      "15/15 [==============================] - 0s 2ms/step - loss: 2723571200.0000 - val_loss: 2566545664.0000\n",
      "Epoch 4/80\n",
      "15/15 [==============================] - 0s 3ms/step - loss: 2721030144.0000 - val_loss: 2562608896.0000\n",
      "Epoch 5/80\n",
      "15/15 [==============================] - 0s 3ms/step - loss: 2714210048.0000 - val_loss: 2552812800.0000\n",
      "Epoch 6/80\n",
      "15/15 [==============================] - 0s 3ms/step - loss: 2698338304.0000 - val_loss: 2531696128.0000\n",
      "Epoch 7/80\n",
      "15/15 [==============================] - 0s 3ms/step - loss: 2666163456.0000 - val_loss: 2491072512.0000\n",
      "Epoch 8/80\n",
      "15/15 [==============================] - 0s 3ms/step - loss: 2607074304.0000 - val_loss: 2420843264.0000\n",
      "Epoch 9/80\n",
      "15/15 [==============================] - 0s 3ms/step - loss: 2510277376.0000 - val_loss: 2309455872.0000\n",
      "Epoch 10/80\n",
      "15/15 [==============================] - 0s 2ms/step - loss: 2363882240.0000 - val_loss: 2145276672.0000\n",
      "Epoch 11/80\n",
      "15/15 [==============================] - 0s 3ms/step - loss: 2155156480.0000 - val_loss: 1921903104.0000\n",
      "Epoch 12/80\n",
      "15/15 [==============================] - 0s 2ms/step - loss: 1878417536.0000 - val_loss: 1640723840.0000\n",
      "Epoch 13/80\n",
      "15/15 [==============================] - 0s 3ms/step - loss: 1546285952.0000 - val_loss: 1313671168.0000\n",
      "Epoch 14/80\n",
      "15/15 [==============================] - 0s 3ms/step - loss: 1181040000.0000 - val_loss: 972828032.0000\n",
      "Epoch 15/80\n",
      "15/15 [==============================] - 0s 3ms/step - loss: 826297408.0000 - val_loss: 667445184.0000\n",
      "Epoch 16/80\n",
      "15/15 [==============================] - 0s 3ms/step - loss: 534820448.0000 - val_loss: 445606080.0000\n",
      "Epoch 17/80\n",
      "15/15 [==============================] - 0s 3ms/step - loss: 351410240.0000 - val_loss: 318767104.0000\n",
      "Epoch 18/80\n",
      "15/15 [==============================] - 0s 3ms/step - loss: 264565808.0000 - val_loss: 264182736.0000\n",
      "Epoch 19/80\n",
      "15/15 [==============================] - 0s 3ms/step - loss: 224835152.0000 - val_loss: 244091360.0000\n",
      "Epoch 20/80\n",
      "15/15 [==============================] - 0s 3ms/step - loss: 206742800.0000 - val_loss: 231027360.0000\n",
      "Epoch 21/80\n",
      "15/15 [==============================] - 0s 3ms/step - loss: 191519664.0000 - val_loss: 221359552.0000\n",
      "Epoch 22/80\n",
      "15/15 [==============================] - 0s 3ms/step - loss: 178715232.0000 - val_loss: 212610384.0000\n",
      "Epoch 23/80\n",
      "15/15 [==============================] - 0s 2ms/step - loss: 167186416.0000 - val_loss: 205502400.0000\n",
      "Epoch 24/80\n",
      "15/15 [==============================] - 0s 3ms/step - loss: 157412064.0000 - val_loss: 197807616.0000\n",
      "Epoch 25/80\n",
      "15/15 [==============================] - 0s 2ms/step - loss: 148448272.0000 - val_loss: 191461936.0000\n",
      "Epoch 26/80\n",
      "15/15 [==============================] - 0s 3ms/step - loss: 140450608.0000 - val_loss: 185942128.0000\n",
      "Epoch 27/80\n",
      "15/15 [==============================] - 0s 3ms/step - loss: 133001872.0000 - val_loss: 181500368.0000\n",
      "Epoch 28/80\n",
      "15/15 [==============================] - 0s 2ms/step - loss: 126191840.0000 - val_loss: 176942400.0000\n",
      "Epoch 29/80\n",
      "15/15 [==============================] - 0s 3ms/step - loss: 119748232.0000 - val_loss: 172450832.0000\n",
      "Epoch 30/80\n",
      "15/15 [==============================] - 0s 3ms/step - loss: 114284616.0000 - val_loss: 168597920.0000\n",
      "Epoch 31/80\n",
      "15/15 [==============================] - 0s 3ms/step - loss: 109074064.0000 - val_loss: 163440848.0000\n",
      "Epoch 32/80\n",
      "15/15 [==============================] - 0s 2ms/step - loss: 103958360.0000 - val_loss: 159734752.0000\n",
      "Epoch 33/80\n",
      "15/15 [==============================] - 0s 3ms/step - loss: 99258848.0000 - val_loss: 156721760.0000\n",
      "Epoch 34/80\n",
      "15/15 [==============================] - 0s 3ms/step - loss: 94837688.0000 - val_loss: 153481232.0000\n",
      "Epoch 35/80\n",
      "15/15 [==============================] - 0s 2ms/step - loss: 90826552.0000 - val_loss: 149796896.0000\n",
      "Epoch 36/80\n",
      "15/15 [==============================] - 0s 3ms/step - loss: 86772656.0000 - val_loss: 147354768.0000\n",
      "Epoch 37/80\n",
      "15/15 [==============================] - 0s 2ms/step - loss: 83373872.0000 - val_loss: 143674064.0000\n",
      "Epoch 38/80\n",
      "15/15 [==============================] - 0s 3ms/step - loss: 79730680.0000 - val_loss: 141257184.0000\n",
      "Epoch 39/80\n",
      "15/15 [==============================] - 0s 3ms/step - loss: 76355600.0000 - val_loss: 138690976.0000\n",
      "Epoch 40/80\n",
      "15/15 [==============================] - 0s 3ms/step - loss: 73369744.0000 - val_loss: 136047168.0000\n",
      "Epoch 41/80\n",
      "15/15 [==============================] - 0s 3ms/step - loss: 70318096.0000 - val_loss: 133627952.0000\n",
      "Epoch 42/80\n",
      "15/15 [==============================] - 0s 3ms/step - loss: 67658536.0000 - val_loss: 131045936.0000\n",
      "Epoch 43/80\n",
      "15/15 [==============================] - 0s 3ms/step - loss: 64964444.0000 - val_loss: 129020232.0000\n",
      "Epoch 44/80\n",
      "15/15 [==============================] - 0s 3ms/step - loss: 62504916.0000 - val_loss: 126633712.0000\n",
      "Epoch 45/80\n",
      "15/15 [==============================] - 0s 3ms/step - loss: 60072900.0000 - val_loss: 125072504.0000\n",
      "Epoch 46/80\n",
      "15/15 [==============================] - 0s 3ms/step - loss: 57839524.0000 - val_loss: 122448208.0000\n",
      "Epoch 47/80\n",
      "15/15 [==============================] - 0s 2ms/step - loss: 55794500.0000 - val_loss: 120382488.0000\n",
      "Epoch 48/80\n",
      "15/15 [==============================] - 0s 3ms/step - loss: 53681880.0000 - val_loss: 119118312.0000\n",
      "Epoch 49/80\n",
      "15/15 [==============================] - 0s 3ms/step - loss: 51720336.0000 - val_loss: 117548544.0000\n",
      "Epoch 50/80\n",
      "15/15 [==============================] - 0s 3ms/step - loss: 49993356.0000 - val_loss: 115248056.0000\n",
      "Epoch 51/80\n",
      "15/15 [==============================] - 0s 3ms/step - loss: 48148068.0000 - val_loss: 113724512.0000\n",
      "Epoch 52/80\n",
      "15/15 [==============================] - 0s 3ms/step - loss: 46557780.0000 - val_loss: 112140568.0000\n",
      "Epoch 53/80\n",
      "15/15 [==============================] - 0s 2ms/step - loss: 44947740.0000 - val_loss: 110498856.0000\n",
      "Epoch 54/80\n",
      "15/15 [==============================] - 0s 3ms/step - loss: 43469304.0000 - val_loss: 109515688.0000\n",
      "Epoch 55/80\n",
      "15/15 [==============================] - 0s 3ms/step - loss: 42080036.0000 - val_loss: 107383536.0000\n",
      "Epoch 56/80\n",
      "15/15 [==============================] - 0s 3ms/step - loss: 40790572.0000 - val_loss: 105606504.0000\n",
      "Epoch 57/80\n",
      "15/15 [==============================] - 0s 3ms/step - loss: 39364552.0000 - val_loss: 105122144.0000\n",
      "Epoch 58/80\n",
      "15/15 [==============================] - 0s 3ms/step - loss: 38225416.0000 - val_loss: 104204448.0000\n",
      "Epoch 59/80\n",
      "15/15 [==============================] - 0s 3ms/step - loss: 37143708.0000 - val_loss: 102884448.0000\n",
      "Epoch 60/80\n",
      "15/15 [==============================] - 0s 3ms/step - loss: 35850860.0000 - val_loss: 101331208.0000\n",
      "Epoch 61/80\n",
      "15/15 [==============================] - 0s 3ms/step - loss: 34852832.0000 - val_loss: 100351896.0000\n",
      "Epoch 62/80\n",
      "15/15 [==============================] - 0s 3ms/step - loss: 33910232.0000 - val_loss: 98747680.0000\n",
      "Epoch 63/80\n",
      "15/15 [==============================] - 0s 3ms/step - loss: 32847308.0000 - val_loss: 98411128.0000\n",
      "Epoch 64/80\n",
      "15/15 [==============================] - 0s 2ms/step - loss: 31947940.0000 - val_loss: 97612016.0000\n",
      "Epoch 65/80\n",
      "15/15 [==============================] - 0s 3ms/step - loss: 31233172.0000 - val_loss: 95416744.0000\n",
      "Epoch 66/80\n",
      "15/15 [==============================] - 0s 3ms/step - loss: 30325642.0000 - val_loss: 95856072.0000\n",
      "Epoch 67/80\n",
      "15/15 [==============================] - 0s 3ms/step - loss: 29424278.0000 - val_loss: 94212408.0000\n",
      "Epoch 68/80\n",
      "15/15 [==============================] - 0s 3ms/step - loss: 28721522.0000 - val_loss: 93548080.0000\n",
      "Epoch 69/80\n",
      "15/15 [==============================] - 0s 2ms/step - loss: 27938584.0000 - val_loss: 93007768.0000\n",
      "Epoch 70/80\n",
      "15/15 [==============================] - 0s 3ms/step - loss: 27356352.0000 - val_loss: 91421832.0000\n",
      "Epoch 71/80\n",
      "15/15 [==============================] - 0s 3ms/step - loss: 26510444.0000 - val_loss: 91399472.0000\n",
      "Epoch 72/80\n",
      "15/15 [==============================] - 0s 3ms/step - loss: 25953820.0000 - val_loss: 90679976.0000\n",
      "Epoch 73/80\n",
      "15/15 [==============================] - 0s 3ms/step - loss: 25308934.0000 - val_loss: 89790472.0000\n",
      "Epoch 74/80\n",
      "15/15 [==============================] - 0s 3ms/step - loss: 24666430.0000 - val_loss: 89069544.0000\n",
      "Epoch 75/80\n",
      "15/15 [==============================] - 0s 3ms/step - loss: 24146402.0000 - val_loss: 88241936.0000\n",
      "Epoch 76/80\n",
      "15/15 [==============================] - 0s 3ms/step - loss: 23641434.0000 - val_loss: 87906000.0000\n",
      "Epoch 77/80\n",
      "15/15 [==============================] - 0s 3ms/step - loss: 23251784.0000 - val_loss: 86789008.0000\n",
      "Epoch 78/80\n",
      "15/15 [==============================] - 0s 3ms/step - loss: 22621306.0000 - val_loss: 87569744.0000\n",
      "Epoch 79/80\n",
      "15/15 [==============================] - 0s 3ms/step - loss: 22175978.0000 - val_loss: 85817504.0000\n",
      "Epoch 80/80\n",
      "15/15 [==============================] - 0s 3ms/step - loss: 21650404.0000 - val_loss: 85403120.0000\n"
     ]
    }
   ],
   "execution_count": 39
  },
  {
   "cell_type": "code",
   "id": "e35cdb23-fa09-404d-8b67-8ba6c84a4c43",
   "metadata": {
    "ExecuteTime": {
     "end_time": "2024-10-31T17:51:15.930651Z",
     "start_time": "2024-10-31T17:51:15.860133Z"
    }
   },
   "source": [
    "test_loss = model.evaluate(X_test_dense, y_test)\n",
    "print(f'Test Loss: {test_loss}')"
   ],
   "outputs": [
    {
     "name": "stdout",
     "output_type": "stream",
     "text": [
      "5/5 [==============================] - 0s 2ms/step - loss: 75823128.0000\n",
      "Test Loss: 75823128.0\n"
     ]
    }
   ],
   "execution_count": 40
  },
  {
   "cell_type": "code",
   "id": "c41d23e0-390f-4dd0-a3fd-6610adf5f45d",
   "metadata": {
    "ExecuteTime": {
     "end_time": "2024-10-31T17:51:16.037117Z",
     "start_time": "2024-10-31T17:51:15.957651Z"
    }
   },
   "source": [
    "predictions = model.predict(X_test)"
   ],
   "outputs": [
    {
     "name": "stdout",
     "output_type": "stream",
     "text": [
      "5/5 [==============================] - 0s 2ms/step\n"
     ]
    }
   ],
   "execution_count": 41
  },
  {
   "cell_type": "code",
   "id": "2fb10272-d3bb-4ddd-8e4e-ce6e19c6ffd4",
   "metadata": {
    "ExecuteTime": {
     "end_time": "2024-10-31T17:51:16.085209Z",
     "start_time": "2024-10-31T17:51:16.069154Z"
    }
   },
   "source": [
    "pred_df = pd.DataFrame({'Actual Price': y_test, 'Predicted Price': predictions.flatten()})\n",
    "print(pred_df.head())"
   ],
   "outputs": [
    {
     "name": "stdout",
     "output_type": "stream",
     "text": [
      "     Actual Price  Predicted Price\n",
      "688       30870.0     39280.968750\n",
      "492       54949.0     58166.414062\n",
      "181       34330.0     33622.824219\n",
      "339       51083.0     54051.296875\n",
      "406       44604.0     48099.292969\n"
     ]
    }
   ],
   "execution_count": 42
  },
  {
   "cell_type": "code",
   "id": "92633cee-09ff-48c6-b18f-86411b40a916",
   "metadata": {
    "ExecuteTime": {
     "end_time": "2024-10-31T17:51:16.199544Z",
     "start_time": "2024-10-31T17:51:16.167736Z"
    }
   },
   "source": [
    "model_path = 'C:/Users/Kruti Agrawal/Desktop/Projects/vehicle_price_prediction/model.h5'\n",
    "model.save(model_path)"
   ],
   "outputs": [
    {
     "name": "stderr",
     "output_type": "stream",
     "text": [
      "C:\\Users\\Kruti Agrawal\\anaconda3\\envs\\new_env\\lib\\site-packages\\keras\\src\\engine\\training.py:3000: UserWarning: You are saving your model as an HDF5 file via `model.save()`. This file format is considered legacy. We recommend using instead the native Keras format, e.g. `model.save('my_model.keras')`.\n",
      "  saving_api.save_model(\n"
     ]
    }
   ],
   "execution_count": 43
  },
  {
   "cell_type": "code",
   "id": "7e42f7f6-0722-4cb4-af2e-8c8d7115cd1a",
   "metadata": {
    "ExecuteTime": {
     "end_time": "2024-10-31T17:51:16.302601Z",
     "start_time": "2024-10-31T17:51:16.278738Z"
    }
   },
   "source": [
    "preprocessor_path = 'C:/Users/Kruti Agrawal/Desktop/Projects/vehicle_price_prediction/preprocessor.pkl'\n",
    "joblib.dump(preprocessor, preprocessor_path)"
   ],
   "outputs": [
    {
     "data": {
      "text/plain": [
       "['C:/Users/Kruti Agrawal/Desktop/Projects/vehicle_price_prediction/preprocessor.pkl']"
      ]
     },
     "execution_count": 44,
     "metadata": {},
     "output_type": "execute_result"
    }
   ],
   "execution_count": 44
  },
  {
   "cell_type": "code",
   "id": "f64632ff-4f59-4e94-868d-7bc5ad6fc674",
   "metadata": {
    "ExecuteTime": {
     "end_time": "2024-10-31T17:51:16.379730Z",
     "start_time": "2024-10-31T17:51:16.370184Z"
    }
   },
   "source": [],
   "outputs": [],
   "execution_count": null
  }
 ],
 "metadata": {
  "kernelspec": {
   "display_name": "Python 3 (ipykernel)",
   "language": "python",
   "name": "python3"
  },
  "language_info": {
   "codemirror_mode": {
    "name": "ipython",
    "version": 3
   },
   "file_extension": ".py",
   "mimetype": "text/x-python",
   "name": "python",
   "nbconvert_exporter": "python",
   "pygments_lexer": "ipython3",
   "version": "3.12.4"
  }
 },
 "nbformat": 4,
 "nbformat_minor": 5
}
